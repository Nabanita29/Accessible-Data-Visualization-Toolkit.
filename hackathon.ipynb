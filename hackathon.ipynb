{
  "cells": [
    {
      "cell_type": "markdown",
      "metadata": {
        "id": "view-in-github",
        "colab_type": "text"
      },
      "source": [
        "<a href=\"https://colab.research.google.com/github/Nabanita29/Accessible-Data-Visualization-Toolkit./blob/main/hackathon.ipynb\" target=\"_parent\"><img src=\"https://colab.research.google.com/assets/colab-badge.svg\" alt=\"Open In Colab\"/></a>"
      ]
    },
    {
      "cell_type": "code",
      "source": [
        "import pandas as pd\n",
        "import matplotlib.pyplot as plt\n",
        "import seaborn as sns\n",
        "from gtts import gTTS\n",
        "from pydub import AudioSegment\n",
        "from pydub.playback import play\n",
        "import tempfile\n",
        "\n",
        "# Function to convert text to speech and play it\n",
        "def text_to_speech(text):\n",
        "    tts = gTTS(text=text, lang='en')  # You can specify the language for the speech\n",
        "    tts.save(\"temp.mp3\")  # Save the speech as a temporary mp3 file\n",
        "    audio = AudioSegment.from_file(\"temp.mp3\", format=\"mp3\")  # Load the audio file\n",
        "    play(audio)  # Play the audio\n",
        "    # Clean up the temporary mp3 file\n",
        "    import os\n",
        "    os.remove(\"temp.mp3\")\n",
        "\n",
        "# Ask the user for the GitHub link\n",
        "github_link = input(\"Please enter the GitHub link for the repository: \")\n",
        "\n",
        "# Load the CSV file\n",
        "url = f\"{github_link.rstrip('/')}/raw/master/\"\n",
        "filename = input(\"Enter the name of the CSV file you would like to visualize: \")\n",
        "df = pd.read_csv(url + filename)\n",
        "\n",
        "# Display the available columns\n",
        "print(\"The available columns are:\")\n",
        "print(list(df.columns))\n",
        "\n",
        "# Convert instructions to speech and play it\n",
        "text_to_speech(\"The available columns are: \" + \", \".join(df.columns))\n",
        "\n",
        "# Ask the user which column to use for the histogram\n",
        "column_name = input(\"Which column would you like to use for the histogram? \")\n",
        "\n",
        "# Ask the user for additional attributes\n",
        "color = input(\"What color would you like for the bars in the histogram? \")\n",
        "title = input(\"What title would you like for the histogram? \")\n",
        "\n",
        "# Ask user for font size they are comfortable in\n",
        "font_size = int(input(\"Enter font size: \"))\n",
        "\n",
        "# Create a histogram of the data\n",
        "plt.hist(df[column_name], color=color)\n",
        "\n",
        "# Add labels and title to the plot\n",
        "plt.xlabel(column_name.capitalize())\n",
        "plt.ylabel(\"frequency\", fontsize=font_size)\n",
        "plt.suptitle(title, fontsize=font_size, y=1.05)\n",
        "\n",
        "# Convert instructions to speech and play it\n",
        "text_to_speech(f\"Creating histogram for column {column_name}, with bars color {color}, and title {title}\")\n",
        "\n",
        "# Add descriptive alt text to the plot\n",
        "plt.gcf().canvas.set_window_title('Histogram of ' + column_name)\n",
        "plt.gcf().canvas.draw()\n",
        "alt_text = f\"A histogram of the {column_name} column, showing the frequency of values in each bin\"\n",
        "plt.gcf().canvas.manager.set_window_title(alt_text)\n",
        "\n",
        "# Use accessible color palette\n",
        "sns.set_palette(\"colorblind\")\n",
        "\n",
        "# Display the plot\n",
        "plt.show()\n",
        "\n",
        "# Ask the user for the column names to use for the scatter plot\n",
        "x_col = input(\"Enter the name of the column to use for the x-axis of the scatter plot: \")\n",
        "y_col = input(\"Enter the name of the column to use for the y-axis of the scatter plot: \")\n",
        "\n",
        "# Create scatter plot using Seaborn\n",
        "sns.scatterplot(data=df, x=x_col, y=y_col)\n",
        "\n",
        "# Add labels and title to the plot\n",
        "plt.xlabel(x_col.capitalize())\n",
        "plt.ylabel(y_col.capitalize())\n",
        "plt.suptitle(f\"{y_col.capitalize()} vs {x_col.capitalize()} Scatter Plot\", fontsize=font_size, y=1.05)\n",
        "\n",
        "# Convert instructions to speech and play it\n",
        "text_to_speech(f\"Creating scatter plot for columns {x_col} and {y_col}\")\n",
        "\n",
        "# Add descriptive alt text to the plot\n",
        "plt.gcf().canvas.set_window_title(f\"Scatter plot of {x_col} vs {y_col}\")\n",
        "\n",
        "#Add labels and title to the plot\n",
        "plt.xlabel(x_col.capitalize())\n",
        "plt.ylabel(y_col.capitalize())\n",
        "plt.title(f\"{y_col.capitalize()} vs {x_col.capitalize()} Line Chart\")\n",
        "\n",
        "#Convert instructions to speech and play it\n",
        "text_to_speech(f\"Creating line chart for columns {x_col} and {y_col}\")\n",
        "\n",
        "#Display the plot\n",
        "plt.show()\n",
        "\n",
        "# Ask the user if they want to save the plots\n",
        "save_plots = input(\"Would you like to save the plots? (yes or no) \")\n",
        "\n",
        "if save_plots.lower() == \"yes\":\n",
        "    # Ask the user for the output file name\n",
        "    output_file_name = input(\"Please enter the output file name: \")\n",
        "    # Save the plot as a PNG file\n",
        "    plt.savefig(output_file_name + \".png\", dpi=300, bbox_inches='tight')\n",
        "\n",
        "    # Convert instructions to speech and play it\n",
        "    text_to_speech(f\"The plots have been saved as {output_file_name}.png\")\n",
        "else:\n",
        "    # Convert instructions to speech and play it\n",
        "    text_to_speech(\"The plots were not saved.\")\n",
        "\n",
        "\n",
        "\n"
      ],
      "metadata": {
        "id": "9tfjvlGNcU9U"
      },
      "execution_count": null,
      "outputs": []
    },
    {
      "cell_type": "markdown",
      "source": [],
      "metadata": {
        "id": "xK9hUdDzgSSd"
      }
    },
    {
      "cell_type": "code",
      "source": [],
      "metadata": {
        "id": "TfdV7lQoYfhx"
      },
      "execution_count": null,
      "outputs": []
    }
  ],
  "metadata": {
    "colab": {
      "provenance": [],
      "authorship_tag": "ABX9TyNLcT9WI7iIZPRYLy0Fdv2T",
      "include_colab_link": true
    },
    "kernelspec": {
      "display_name": "Python 3",
      "name": "python3"
    },
    "language_info": {
      "name": "python"
    }
  },
  "nbformat": 4,
  "nbformat_minor": 0
}